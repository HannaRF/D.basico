{
 "cells": [
  {
   "cell_type": "markdown",
   "metadata": {},
   "source": [
    "## Criar e distribuir módulos em python\n",
    " Link : __PyPI__\n",
    " \n",
    " biblioteca para subir projeto : __Twine__\n",
    " * pip install twine\n",
    " * twine upload dist/* \n",
    "## setup.py\n",
    " Metadados do projeto\n",
    " \n",
    " __from setuptools import setup__\n",
    " \n",
    " __setup(**attrs)__\n",
    " \n",
    " __find_packages()__ : acha todos os pacotes(classes com $__init__$ do projeto e retorna uma lista deles)\n",
    " \n",
    " No terminal:\n",
    " \n",
    " * cd projeto\n",
    " * setup.py build (compila)\n",
    " * setup.py sdist (n compila)\n",
    " "
   ]
  },
  {
   "cell_type": "code",
   "execution_count": null,
   "metadata": {},
   "outputs": [],
   "source": [
    "    func(*args) # tupla de tamanho indefinido\n",
    "    func(**kwargs) # dict de tamanho indefinido\n",
    "    \n",
    "    def f(a,b,c,N = \"name\",*args,**kwargs)"
   ]
  },
  {
   "cell_type": "markdown",
   "metadata": {},
   "source": [
    "## setup.cfg\n"
   ]
  },
  {
   "cell_type": "markdown",
   "metadata": {},
   "source": [
    "## requiriments\n",
    "Lista das bibliotecas para desenvolver ou executar o projeto\n",
    "\n",
    "No terminal :\n",
    "* pip install -r requirements.txt"
   ]
  },
  {
   "cell_type": "markdown",
   "metadata": {},
   "source": [
    "## Obs:\n",
    "\n",
    "* __Nose__ : encontra os testes\n",
    "    \n",
    "* __Coverage__ : checa se todas as linhas foram tocadas nos testes (cobertura)\n",
    "\n",
    "* __sphinx__ : python documentation generator\n",
    "\n",
    "No terminal:\n",
    "\n",
    "__shinx-quickstart__"
   ]
  },
  {
   "cell_type": "markdown",
   "metadata": {},
   "source": [
    "## nota 1 : python profissional,gratuito para estudantes\n",
    "## nota 2 : biblioteca para usar C em Pyton : 'cffi'"
   ]
  },
  {
   "cell_type": "markdown",
   "metadata": {},
   "source": [
    "## nota 3 : isic"
   ]
  }
 ],
 "metadata": {
  "kernelspec": {
   "display_name": "Python 3",
   "language": "python",
   "name": "python3"
  },
  "language_info": {
   "codemirror_mode": {
    "name": "ipython",
    "version": 3
   },
   "file_extension": ".py",
   "mimetype": "text/x-python",
   "name": "python",
   "nbconvert_exporter": "python",
   "pygments_lexer": "ipython3",
   "version": "3.7.3"
  }
 },
 "nbformat": 4,
 "nbformat_minor": 4
}
